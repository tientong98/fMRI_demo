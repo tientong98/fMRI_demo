{
 "cells": [
  {
   "cell_type": "markdown",
   "id": "e53b9e09",
   "metadata": {},
   "source": [
    "# Download data using datalad from OpenNeuro\n",
    "\n",
    "**Link to data**: https://openneuro.org/datasets/ds001229/versions/00001\n",
    "\n",
    "**Citation**: Lewis-Peacock, J. A., Cohen, J. D., & Norman, K. A. (2016). Neural Evidence of the Strategic Choice Between Working Memory and Episodic Memory in Prospective Remembering. Neuropsychologia. https://doi.org/10.1016/j.neuropsychologia.2016.11.006\n",
    "\n",
    "**Task**: This dataset contains 25 subjects performing a dual-task propspective memory experiment. Participants were shown a series of words while pictures of faces and scenes were presented in the background. Participants performed an ongoing task while monitoring for a picture target (a particular face or a particular scene) to reappear. Each subject performed two versions of the task (WM-bias, EM-bias) in alternating runs of 15 trials. Each subject had 6 functional runs of 301 TRs. Between runs, participants were given a break during which the experimenter checked that the participant was comfortable and alert.\n",
    "\n",
    "\n",
    "![task](task.png)\n",
    "**Task diagram**: The dual-task experiment consisted a picture-target detection prospective memory task (“PM”) embedded in an ongoing lexical-decision task (“OG”). Half of the trials were WMbias trials (1-back lexical decisions and a small set of repeating homogeneous pictures) and half were EMbias trials (2-back lexical decisions and a large set of trial-unique heterogeneous pictures). Two-thirds of all trials included both tasks (“PM+OG”), and one-third did not require PM responses (“OG only”)"
   ]
  },
  {
   "cell_type": "code",
   "execution_count": null,
   "id": "3f9bf6b0",
   "metadata": {},
   "outputs": [],
   "source": [
    "%%bash\n",
    "\n",
    "datalad clone git@github.com:OpenNeuroDatasets/ds001229.git\n",
    "cd /Users/TienTong/Desktop/utdallas_demo/data/ds001229\n",
    "\n",
    "for sub_num in 01 02 03 04 05 ; do\n",
    "    datalad get sub-${sub_num}\n",
    "done"
   ]
  },
  {
   "cell_type": "markdown",
   "id": "b8745657",
   "metadata": {},
   "source": [
    "# View demographic infor of the first 5 participants "
   ]
  },
  {
   "cell_type": "code",
   "execution_count": 1,
   "id": "ad6c2376",
   "metadata": {},
   "outputs": [
    {
     "data": {
      "text/html": [
       "<div>\n",
       "<style scoped>\n",
       "    .dataframe tbody tr th:only-of-type {\n",
       "        vertical-align: middle;\n",
       "    }\n",
       "\n",
       "    .dataframe tbody tr th {\n",
       "        vertical-align: top;\n",
       "    }\n",
       "\n",
       "    .dataframe thead th {\n",
       "        text-align: right;\n",
       "    }\n",
       "</style>\n",
       "<table border=\"1\" class=\"dataframe\">\n",
       "  <thead>\n",
       "    <tr style=\"text-align: right;\">\n",
       "      <th></th>\n",
       "      <th>participant_id</th>\n",
       "      <th>sex</th>\n",
       "      <th>age</th>\n",
       "    </tr>\n",
       "  </thead>\n",
       "  <tbody>\n",
       "    <tr>\n",
       "      <th>0</th>\n",
       "      <td>sub-01</td>\n",
       "      <td>M</td>\n",
       "      <td>33</td>\n",
       "    </tr>\n",
       "    <tr>\n",
       "      <th>1</th>\n",
       "      <td>sub-02</td>\n",
       "      <td>F</td>\n",
       "      <td>23</td>\n",
       "    </tr>\n",
       "    <tr>\n",
       "      <th>2</th>\n",
       "      <td>sub-03</td>\n",
       "      <td>M</td>\n",
       "      <td>23</td>\n",
       "    </tr>\n",
       "    <tr>\n",
       "      <th>3</th>\n",
       "      <td>sub-04</td>\n",
       "      <td>M</td>\n",
       "      <td>28</td>\n",
       "    </tr>\n",
       "    <tr>\n",
       "      <th>4</th>\n",
       "      <td>sub-05</td>\n",
       "      <td>M</td>\n",
       "      <td>19</td>\n",
       "    </tr>\n",
       "  </tbody>\n",
       "</table>\n",
       "</div>"
      ],
      "text/plain": [
       "  participant_id sex  age\n",
       "0         sub-01   M   33\n",
       "1         sub-02   F   23\n",
       "2         sub-03   M   23\n",
       "3         sub-04   M   28\n",
       "4         sub-05   M   19"
      ]
     },
     "execution_count": 1,
     "metadata": {},
     "output_type": "execute_result"
    }
   ],
   "source": [
    "import pandas as pd\n",
    "\n",
    "demo = pd.read_csv(\"/Users/TienTong/Desktop/utdallas_demo/data/participants.tsv\", sep='\\t')\n",
    "demo.head(5)"
   ]
  },
  {
   "cell_type": "markdown",
   "id": "b5a63dc3",
   "metadata": {},
   "source": [
    "# View data structure of the first participant"
   ]
  },
  {
   "cell_type": "code",
   "execution_count": 17,
   "id": "fe6eada5",
   "metadata": {},
   "outputs": [
    {
     "name": "stdout",
     "output_type": "stream",
     "text": [
      "\u001b[01;34m/Users/TienTong/Desktop/utdallas_demo/data/sub-01\u001b[00m\r\n",
      "├── \u001b[01;34manat\u001b[00m\r\n",
      "│   ├── sub-01_T1w.json\r\n",
      "│   └── \u001b[01;31msub-01_T1w.nii.gz\u001b[00m\r\n",
      "└── \u001b[01;34mfunc\u001b[00m\r\n",
      "    ├── sub-01_task-em_run-01_bold.json\r\n",
      "    ├── \u001b[01;31msub-01_task-em_run-01_bold.nii.gz\u001b[00m\r\n",
      "    ├── sub-01_task-em_run-01_events.tsv\r\n",
      "    ├── sub-01_task-em_run-02_bold.json\r\n",
      "    ├── \u001b[01;31msub-01_task-em_run-02_bold.nii.gz\u001b[00m\r\n",
      "    ├── sub-01_task-em_run-02_events.tsv\r\n",
      "    ├── sub-01_task-em_run-03_bold.json\r\n",
      "    ├── \u001b[01;31msub-01_task-em_run-03_bold.nii.gz\u001b[00m\r\n",
      "    ├── sub-01_task-em_run-03_events.tsv\r\n",
      "    ├── sub-01_task-wm_run-01_bold.json\r\n",
      "    ├── \u001b[01;31msub-01_task-wm_run-01_bold.nii.gz\u001b[00m\r\n",
      "    ├── sub-01_task-wm_run-01_events.tsv\r\n",
      "    ├── sub-01_task-wm_run-02_bold.json\r\n",
      "    ├── \u001b[01;31msub-01_task-wm_run-02_bold.nii.gz\u001b[00m\r\n",
      "    ├── sub-01_task-wm_run-02_events.tsv\r\n",
      "    ├── sub-01_task-wm_run-03_bold.json\r\n",
      "    ├── \u001b[01;31msub-01_task-wm_run-03_bold.nii.gz\u001b[00m\r\n",
      "    └── sub-01_task-wm_run-03_events.tsv\r\n",
      "\r\n",
      "2 directories, 20 files\r\n"
     ]
    }
   ],
   "source": [
    "!tree -L 4 /Users/TienTong/Desktop/utdallas_demo/data/sub-01"
   ]
  },
  {
   "cell_type": "markdown",
   "id": "f82ccd31",
   "metadata": {},
   "source": [
    "# Run fMRIPrep for first 5 participants"
   ]
  },
  {
   "cell_type": "code",
   "execution_count": null,
   "id": "bdb35c84",
   "metadata": {},
   "outputs": [],
   "source": [
    "%%bash\n",
    "\n",
    "# Installation instructions here: https://www.nipreps.org/apps/docker/\n",
    "\n",
    "# docker pull nipreps/fmriprep:20.2.3\n",
    "# pip install --user --upgrade fmriprep-docker\n",
    "\n",
    "# run\n",
    "fmriprep_dir=$HOME/Desktop/utdallas_demo/fmriprep\n",
    "log=$HOME/Desktop/utdallas_demo/log\n",
    " \n",
    "for sub_num in 01 02 03 04 05 ; do\n",
    "    bids_sub=$HOME/Desktop/utdallas_demo/data/sub-${sub_num}\n",
    "    for task in em wm ; do\n",
    "        docker run -ti --rm \\\n",
    "            -v ${bids_sub}:/data:ro \\\n",
    "            -v ${fmriprep_dir}:/out \\\n",
    "            -v ${fmriprep_dir}:/work \\\n",
    "            -v $HOME/Documents/Licenses/freesurfer_license.txt:/opt/freesurfer/license.txt \\\n",
    "            nipreps/fmriprep:20.2.3 \\\n",
    "                /data \\\n",
    "                /out \\\n",
    "                participant \\\n",
    "                -w /work \\\n",
    "                -t ${task} \\\n",
    "                --output-spaces MNI152NLin6Asym:res-2 \\\n",
    "                --nprocs 8 \\\n",
    "                --skip_bids_validation \\\n",
    "                --fs-no-reconall > ${log}/sub-${sub_num}_task-${task}.log\n",
    "    done\n",
    "done"
   ]
  }
 ],
 "metadata": {
  "kernelspec": {
   "display_name": "Python 3",
   "language": "python",
   "name": "python3"
  },
  "language_info": {
   "codemirror_mode": {
    "name": "ipython",
    "version": 3
   },
   "file_extension": ".py",
   "mimetype": "text/x-python",
   "name": "python",
   "nbconvert_exporter": "python",
   "pygments_lexer": "ipython3",
   "version": "3.8.10"
  }
 },
 "nbformat": 4,
 "nbformat_minor": 5
}
